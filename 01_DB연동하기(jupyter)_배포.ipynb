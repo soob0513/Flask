{
 "cells": [
  {
   "cell_type": "markdown",
   "metadata": {
    "id": "9ImsFIT8gzGi"
   },
   "source": [
    "# Oracle 설치"
   ]
  },
  {
   "cell_type": "markdown",
   "metadata": {
    "id": "cf3AKBwfzUl1"
   },
   "source": [
    "- Oracle 다운로드\n",
    "  - https://www.oracle.com/kr/database/technologies/oracle-database-software-downloads.html\n",
    "  - Download Oracle Database XE for Windows(ZIP) 버튼을 클릭하여 다운로드\n",
    "\n",
    "<center>  \n",
    "<img src=\"https://arome1004.cafe24.com/images/python_db/lecture_image/001_download.png\" width=50%>\n",
    "</center>    \n",
    "\n"
   ]
  },
  {
   "cell_type": "markdown",
   "metadata": {
    "id": "m6kHh-zmgtRk"
   },
   "source": [
    "- Oracle 설치\n",
    "  - 압축을 풀고 setup.exe 파일을 실행하여 설치\n",
    "    - 설치 폴더 설정\n",
    "    - 접속 패스워드 설정\n",
    "    - TNS Listener 허용 (TNSLSNR.exe)\n",
    "      - 한 시스템에 오라클DB가 여러개 설치가 되어있는 경우 외부에서 접속을 하면 TNS Listener는 SID값을 가지고 어느 오라클DB로 접속시킬지 중개하는 역할\n",
    "    - Java(TM) Platform SE binary 액세스 허용\n",
    "<center>  \n",
    "<img src=\"https://arome1004.cafe24.com/images/python_db/lecture_image/001_install01.png\" width=30%><img src=\"https://arome1004.cafe24.com/images/python_db/lecture_image/001_install02.png\" width=30%><img src=\"https://arome1004.cafe24.com/images/python_db/lecture_image/001_install03.png\" width=30%>\n",
    "</center>    \n",
    "<center>  \n",
    "<img src=\"https://arome1004.cafe24.com/images/python_db/lecture_image/001_install04.png\" width=30%><img src=\"https://arome1004.cafe24.com/images/python_db/lecture_image/001_install05.png\" width=30%><img src=\"https://arome1004.cafe24.com/images/python_db/lecture_image/001_install06.png\" width=30%>\n",
    "</center>   \n",
    "<center>  \n",
    "<img src=\"https://arome1004.cafe24.com/images/python_db/lecture_image/001_install07.png\" width=30%><img src=\"https://arome1004.cafe24.com/images/python_db/lecture_image/001_install08.png\" width=30%><img src=\"https://arome1004.cafe24.com/images/python_db/lecture_image/001_install09.png\" width=30%>\n",
    "</center>"
   ]
  },
  {
   "cell_type": "markdown",
   "metadata": {
    "id": "ntTj-9jcguAZ"
   },
   "source": [
    "- CMS창에서 Oracle 실행\n",
    "  - CMD 창에서 sqlplus 명령어를 실행\n",
    "  - user name은 system으로 password는 설치때 설정한 암호를 입력\n",
    "\n",
    "<center>  \n",
    "<img src=\"https://arome1004.cafe24.com/images/python_db/lecture_image/001_execute001.png\" width=50%>\n",
    "</center>    "
   ]
  },
  {
   "cell_type": "markdown",
   "metadata": {
    "id": "roBZbkoSkb60"
   },
   "source": [
    "- Oracle SQL Developer 다운로드\n",
    "  - https://www.oracle.com/database/sqldeveloper/technologies/download/ 에서 Oracle SQL Developer 다운로드  \n",
    "\n",
    "<center>  \n",
    "<img src=\"https://arome1004.cafe24.com/images/python_db/lecture_image/001_developer001.png\" width=50%>\n",
    "</center>    "
   ]
  },
  {
   "cell_type": "markdown",
   "metadata": {
    "id": "IA32axZdltuP"
   },
   "source": [
    "- Oracle SQL Developer의 압축을 풀고 sqldeveloper.exe 실행하여 설치 후 실행\n",
    "\n",
    "<center>  \n",
    "<img src=\"https://arome1004.cafe24.com/images/python_db/lecture_image/001_developer002.png\" width=30%><img src=\"https://arome1004.cafe24.com/images/python_db/lecture_image/001_developer003.png\" width=20%>\n",
    "</center>  "
   ]
  },
  {
   "cell_type": "markdown",
   "metadata": {
    "id": "S9Vjcm7Zn-WK"
   },
   "source": [
    "- \\+ 아이콘을 클릭\n",
    "\n",
    "<center>  \n",
    "<img src=\"https://arome1004.cafe24.com/images/python_db/lecture_image/001_developer004.png\" width=50%>\n",
    "</center>\n",
    "\n"
   ]
  },
  {
   "cell_type": "markdown",
   "metadata": {
    "id": "4qwUfssCqVK9"
   },
   "source": [
    "- 접속정보를 입력하고 접속 버튼을 클릭\n",
    "  \n",
    "<center>  \n",
    "<img src=\"https://arome1004.cafe24.com/images/python_db/lecture_image/001_developer005.png\" width=40%>\n",
    "</center>\n",
    "<center>  \n",
    "<img src=\"https://arome1004.cafe24.com/images/python_db/lecture_image/001_developer006.png\" width=40%>\n",
    "</center>"
   ]
  },
  {
   "cell_type": "markdown",
   "metadata": {
    "id": "S6ROIIi8qzmu"
   },
   "source": [
    "# Oracle DB에 접속하기"
   ]
  },
  {
   "cell_type": "markdown",
   "metadata": {
    "id": "xOKZqzAJq7JK"
   },
   "source": [
    "- Python에서 Oracle Database 에 접속해서 DB 작업을 할 수 있도록 도와주는 라이브러리에 cx_Oracle과 python-oracledb 가 있음\n",
    "\n",
    "- cx_Oracle 라이브러리의 구조\n",
    "  - 반드시 cx_Oracle을 사용하는 파이썬 프로그램이 돌아가는 서버에 Oracle Client가 설치되어 있어야 함\n",
    "\n",
    "<center>  \n",
    "<img src=\"https://arome1004.cafe24.com/images/python_db/lecture_image/001_python-cxoracle_arch.png\" width=40%><br><font size=1>참고 : https://cx-oracle.readthedocs.io</font>\n",
    "</center>\n",
    "\n",
    "- python-oracledb 라이브러리\n",
    "  - cx_Oracle의 업그레이드 버전 : 기능 추가\n",
    "  - 참고 : https://python-oracledb.readthedocs.io/en/latest/user_guide/installation.html\n",
    "  - thin 모드와 thick 모드 지원\n",
    "    - thin 모드 : 서버에 Oracle Client가 없어도 됨\n",
    "      - DB Startup/Stop, TAF기능사용, BFILE Type 지원, 21c JSON Data Type 지원, 2PC 등의 기능을 사용할 수 없음\n",
    "    - thick 모드 : 서버에 Oracle Client가 있어야 됨\n",
    "\n",
    "  - oracledb.init_oracle_client()가 들어가면 thick 모드로 동작\n",
    "  \n",
    "<center>  \n",
    "<img src=\"https://arome1004.cafe24.com/images/python_db/lecture_image/001_python-oracledb-arch.png\" width=40%><br><font size=1>참고 : https://cx-oracle.readthedocs.io</font>\n",
    "</center><br>\n",
    "\n",
    "<center>  \n",
    "<img src=\"https://arome1004.cafe24.com/images/python_db/lecture_image/001_python-oracledb-arch2.png\" width=40%><br><font size=1>참고 : https://cx-oracle.readthedocs.io</font>\n",
    "</center>\n",
    "\n",
    "\n",
    "  \n"
   ]
  },
  {
   "cell_type": "markdown",
   "metadata": {
    "id": "T42f_BMTmfTr"
   },
   "source": [
    "- 라이브러리 설치"
   ]
  },
  {
   "cell_type": "code",
   "execution_count": 2,
   "metadata": {
    "colab": {
     "base_uri": "https://localhost:8080/"
    },
    "id": "3Q_fWNvk49ra",
    "outputId": "9e97378c-93d2-45dd-81d0-4eda34a13dc1"
   },
   "outputs": [
    {
     "name": "stdout",
     "output_type": "stream",
     "text": [
      "Collecting cx_Oracle\n",
      "  Using cached cx_Oracle-8.3.0.tar.gz (363 kB)\n",
      "  Installing build dependencies: started\n",
      "  Installing build dependencies: finished with status 'done'\n",
      "  Getting requirements to build wheel: started\n",
      "  Getting requirements to build wheel: finished with status 'done'\n",
      "  Preparing metadata (pyproject.toml): started\n",
      "  Preparing metadata (pyproject.toml): finished with status 'done'\n",
      "Building wheels for collected packages: cx_Oracle\n",
      "  Building wheel for cx_Oracle (pyproject.toml): started\n",
      "  Building wheel for cx_Oracle (pyproject.toml): finished with status 'done'\n",
      "  Created wheel for cx_Oracle: filename=cx_Oracle-8.3.0-cp311-cp311-win_amd64.whl size=223896 sha256=ff63175d45f1fded6cab88940c96bee529eb4811b51770832224a51b27aa47b7\n",
      "  Stored in directory: c:\\users\\smhrd\\appdata\\local\\pip\\cache\\wheels\\e0\\41\\f9\\63e9c4d1ec7b2e8faffc1d6f3219c2e168c306b042d77e2b6f\n",
      "Successfully built cx_Oracle\n",
      "Installing collected packages: cx_Oracle\n",
      "Successfully installed cx_Oracle-8.3.0\n"
     ]
    }
   ],
   "source": [
    "!pip install cx_Oracle"
   ]
  },
  {
   "cell_type": "markdown",
   "metadata": {},
   "source": [
    "- 설치오류가 뜨는 경우\n",
    "  - https://visualstudio.microsoft.com/visual-cpp-build-tools/ 에서 Build Tool 다운로드\n",
    "  - Build Tool을 실행\n",
    "  - C++를 사용한 데스크톱 개발을 선택하고 설치 버튼을 클릭하여 설치\n",
    "  \n",
    "  \n",
    "<center>  \n",
    "<img src=\"https://arome1004.cafe24.com/images/python_db/lecture_image/001_buildtool.png\" width=40%>\n",
    "</center>  \n",
    "  \n",
    "<center>  \n",
    "<img src=\"https://arome1004.cafe24.com/images/python_db/lecture_image/001_buildtool_02.png\" width=40%>\n",
    "</center>  \n",
    "\n",
    "<center>  \n",
    "<img src=\"https://arome1004.cafe24.com/images/python_db/lecture_image/001_buildtool_03.png\" width=40%>\n",
    "</center>  \n",
    "    \n",
    "<center>  \n",
    "<img src=\"https://arome1004.cafe24.com/images/python_db/lecture_image/001_buildtool_04.png\" width=80%>\n",
    "</center>      "
   ]
  },
  {
   "cell_type": "markdown",
   "metadata": {
    "id": "xtVrJ_E2rDoa"
   },
   "source": [
    "- 오라클 접속하기\n",
    "\n",
    "\n"
   ]
  },
  {
   "cell_type": "code",
   "execution_count": 3,
   "metadata": {
    "colab": {
     "base_uri": "https://localhost:8080/"
    },
    "id": "fiouWvBWcJ8a",
    "outputId": "94f4236f-4538-4b22-fdca-c44d6227b96c"
   },
   "outputs": [],
   "source": [
    "import cx_Oracle\n",
    "#실습"
   ]
  },
  {
   "cell_type": "markdown",
   "metadata": {
    "id": "bdJcok4JuM5F"
   },
   "source": [
    "## DPI-1047: Cannot locate a 64-bit Oracle Client library 오류가 뜨는 경우\n",
    "\n",
    "- Windows\n",
    "  - https://www.oracle.com/database/technologies/instant-client/winx64-64-downloads.html 에서 오라클 클라이언트 라이브러리를 다운로드\n",
    "  - 압축을 해제하고 C/IC21 폴더로 instantclient_xx_xx 폴더를 이동\n",
    "\n",
    "<center>  \n",
    "<img src=\"https://arome1004.cafe24.com/images/python_db/lecture_image/001_python-cxoracle_window.png\" width=50%>\n",
    "</center>  \n",
    "\n",
    "- Linux\n",
    "  - https://www.oracle.com/database/free/get-started/ 에서 오라클 클라이언트 라이브러리를 다운로드\n",
    "   - 설정 : https://docs.oracle.com/en/database/oracle/oracle-database/23/lacli/install-instant-client-using-zip.html#GUID-D3DCB4FB-D3CA-4C25-BE48-3A1FB5A22E84\n",
    "\n",
    "<center>  \n",
    "<img src=\"https://arome1004.cafe24.com/images/python_db/lecture_image/001_python-cxoracle_linux.png\" width=50%>\n",
    "</center>  \n",
    "\n"
   ]
  },
  {
   "cell_type": "markdown",
   "metadata": {
    "id": "rmReY0tHy29Z"
   },
   "source": [
    "- 오라클 instant client 등록"
   ]
  },
  {
   "cell_type": "code",
   "execution_count": 2,
   "metadata": {
    "id": "7VWf0ONYy1YB"
   },
   "outputs": [],
   "source": [
    "# 문제가 생겼을 때!\n",
    "# cx_Oracle.init_oracle_client(lib_dir=r\"C:\\IC21\\instantclient_21_11\")"
   ]
  },
  {
   "cell_type": "markdown",
   "metadata": {},
   "source": [
    "- 오라클 DB 연동하기"
   ]
  },
  {
   "cell_type": "code",
   "execution_count": 9,
   "metadata": {
    "id": "CukdRZ_VkbVc"
   },
   "outputs": [
    {
     "name": "stdout",
     "output_type": "stream",
     "text": [
      "DB 연결 성공\n"
     ]
    }
   ],
   "source": [
    "import cx_Oracle\n",
    "\n",
    "user_name = 'hr'\n",
    "password = '12345'\n",
    "# DB IP 주소 : 포트 / DB명\n",
    "dsn = '127.0.0.1:1521/xe'\n",
    "\n",
    "# DB에 연결\n",
    "# 예외처리 : 사용할 때 발생할 가능성이 있는 오류를 처리하는 것\n",
    "# try : 오류가 발생할 가능성이 있는 문장\n",
    "try : \n",
    "    # connect : user_name, password, dsn 정보를 이용해 DB에 접속\n",
    "    conn = cx_Oracle.connect(user_name, password, dsn)\n",
    "    print('DB 연결 성공')\n",
    "# except : 오류가 발생하면 실행할 문장\n",
    "# 오류가 발생하면 해당 오류 메시지를 출력\n",
    "except cx_Oracle.DatabaseError as e: \n",
    "    print('Error : ', e)"
   ]
  },
  {
   "cell_type": "markdown",
   "metadata": {},
   "source": [
    "# 데이터 입력, 수정, 삭제, 검색 "
   ]
  },
  {
   "cell_type": "markdown",
   "metadata": {},
   "source": [
    "- 커서 객체 생성하기\n",
    "    - Cursor 객체 \n",
    "        - 사용자가 입력한 SQL문을 DB로 전달해서 실행\n",
    "        - 실행한 SQL문의 결과를 반환하는 기능"
   ]
  },
  {
   "cell_type": "code",
   "execution_count": 10,
   "metadata": {},
   "outputs": [],
   "source": [
    "cur = conn.cursor()"
   ]
  },
  {
   "cell_type": "markdown",
   "metadata": {},
   "source": [
    "- DB 관련 함수들을 모듈로 저장\n",
    "- %%writefile : 아래에 있는 내용을 설정된 파일에 저장\n",
    "    - 주의점 : 이 명령 위쪽에는 어떠한 명령도 있으면 안 됨"
   ]
  },
  {
   "cell_type": "code",
   "execution_count": 2,
   "metadata": {},
   "outputs": [
    {
     "name": "stdout",
     "output_type": "stream",
     "text": [
      "Overwriting DB_Control.py\n"
     ]
    }
   ],
   "source": [
    "%%writefile DB_Control.py\n",
    "import cx_Oracle\n",
    "\n",
    "# ★★이 셀을 수정하고 나면 실행한 후 Kernel Restart 꼭 해주기!!!★★\n",
    "\n",
    "# DB 연결 및 커서 생성 함수\n",
    "def db_conn() : \n",
    "    user_name = 'hr'\n",
    "    password = '12345'\n",
    "    dsn = '127.0.0.1:1521/xe'\n",
    "\n",
    "    try : \n",
    "        conn = cx_Oracle.connect(user_name, password, dsn)\n",
    "        cur = conn.cursor()\n",
    "        print('DB 연결 성공')\n",
    "        \n",
    "        # 연결 객체, 커서 객체를 반환\n",
    "        return conn, cur\n",
    "    except cx_Oracle.DatabaseError as e: \n",
    "        print('Error : ', e) \n",
    "        \n",
    "# 테이블 생성 함수\n",
    "def create_tbl(conn, cur) : \n",
    "    query = '''create table flask_table (\n",
    "        code varchar(10) primary key,\n",
    "        name varchar(10) not null,\n",
    "        age integer not null)'''\n",
    "    \n",
    "    try : \n",
    "        # 쿼리문을 DB로 전송해서 실행\n",
    "        # 커서를 통해서 실행 성공 유무를 반환 (실패 시 -1을 반환)\n",
    "        cur.execute(query)\n",
    "        \n",
    "        # 실행결과를 DB에 반영\n",
    "        conn.commit()\n",
    "        print('테이블 생성 완료')\n",
    "    except cx_Oracle.DatabaseError as e : \n",
    "        print('Error : ', e)\n",
    "        \n",
    "# 테이블에 데이터를 저장하는 함수\n",
    "def insert_tbl(conn, cur, code, name, age) : \n",
    "    # 입력된 값들을 딕셔너리로 생성\n",
    "    input_data = {'code' :code, 'name' :name, 'age' :age}\n",
    "    \n",
    "    # 딕셔너리값의 키 값을 쿼리문에 설정해서 쿼리문을 생성\n",
    "    query = 'insert into flask_table values (:code, :name, :age)'\n",
    "    \n",
    "    try : \n",
    "        # 딕셔너리 값을 query문에 할당해서 DB로 전송하고 실행\n",
    "        cur.execute(query, input_data)\n",
    "        \n",
    "        conn.commit()\n",
    "        print('테이블 저장 완료')\n",
    "    except cx_Oracle.DatabaseError as e : \n",
    "        print('Error : ', e)\n",
    "\n",
    "# 테이블의 데이터 전체를 검색하는 함수\n",
    "def search_all_tbl(conn, cur) :\n",
    "    query = 'select * from flask_table'\n",
    "    \n",
    "    try : \n",
    "        cur.execute(query)\n",
    "\n",
    "        # 커서 객체에서 반환된 값을 받는다\n",
    "        # fetchall() : 전체데이터를 받는다 fetch-all\n",
    "        # fetchone() : 하나의 데이터를 받는다 fetch -one\n",
    "        row = cur.fetchall()\n",
    "        \n",
    "        return row\n",
    "    except cx_Oracle.DatabaseError as e : \n",
    "        print('Error : ', e)\n",
    "        \n",
    "\n",
    "# 테이블의 조건에 맞는 code를 기준으로 검색하는 함수\n",
    "def search_tbl(conn, cur, code) :\n",
    "    input_data = {'code':code}\n",
    "    \n",
    "    query = 'select * from flask_table where code =:code'\n",
    "    \n",
    "    try : \n",
    "        cur.execute(query, input_data)\n",
    "        row = cur.fetchall()\n",
    "        \n",
    "        return row\n",
    "    except cx_Oracle.DatabaseError as e : \n",
    "        print('Error : ', e)\n",
    "\n",
    "# 업데이트 함수\n",
    "def update_tbl(conn, cur, code, name, age) : \n",
    "    query = f'update flask_table set name='{name}', age ={age} where code='{code}''\n",
    "    \n",
    "    # 위와 동일하게 input 함수를 사용한다면?\n",
    "    # input_data = {'code':code, 'name':name, 'age':age}\n",
    "    # query = 'update flask_table set name =:name, age =:age, where code=:code'\n",
    "    \n",
    "    try : \n",
    "        cur.execute(query)\n",
    "        # cur.execute(query, input_data)\n",
    "        \n",
    "        conn.commit()\n",
    "        print('테이블 수정 완료')\n",
    "    except cx_Oracle.DatabaseError as e : \n",
    "        print('Error : ', e)\n",
    "    \n",
    "# 삭제 함수\n",
    "def delete_tbl(conn, cur, code) :\n",
    "    # (1) 파라미터로 받은 데이터를 딕셔너리로 만든다\n",
    "    input_data = {\"code\":code}\n",
    "    \n",
    "    # (2) query 문을 정의 - 콜론:변수명 형태로 딕셔너리의 키 값 위치를 설정\n",
    "    query = \"delete from flask_table where code=:code\"\n",
    "    \n",
    "    # (3) 예외처리\n",
    "    try :\n",
    "        # (4) execute()로 쿼리를 전송해 실행, 딕셔너리 할당\n",
    "        cur.execute(query, input_data)\n",
    "        \n",
    "        # (5) 실행 결과를 DB에 반영\n",
    "        conn.commit()\n",
    "        print(\"데이터 삭제 완료\")\n",
    "    except cx_Oracle.DatabaseError as e :\n",
    "        print(\"Error : \", e)  \n",
    "        \n",
    "# DB 연결 종료 함수\n",
    "def disconn(conn, cur) :\n",
    "    pass"
   ]
  },
  {
   "cell_type": "markdown",
   "metadata": {},
   "source": [
    "- 모듈 호출하기"
   ]
  },
  {
   "cell_type": "code",
   "execution_count": 1,
   "metadata": {},
   "outputs": [
    {
     "ename": "SyntaxError",
     "evalue": "invalid syntax (DB_Control.py, line 89)",
     "output_type": "error",
     "traceback": [
      "Traceback \u001b[1;36m(most recent call last)\u001b[0m:\n",
      "\u001b[0m  File \u001b[0;32m~\\anaconda3\\Lib\\site-packages\\IPython\\core\\interactiveshell.py:3526\u001b[0m in \u001b[0;35mrun_code\u001b[0m\n    exec(code_obj, self.user_global_ns, self.user_ns)\u001b[0m\n",
      "\u001b[1;36m  Cell \u001b[1;32mIn[1], line 1\u001b[1;36m\n\u001b[1;33m    import DB_Control as dc\u001b[1;36m\n",
      "\u001b[1;36m  File \u001b[1;32m~\\0 Flask\\DB_Control.py:89\u001b[1;36m\u001b[0m\n\u001b[1;33m    query = f'update flask_table set name='{name}', age ={age} where code='{code}''\u001b[0m\n\u001b[1;37m                                           ^\u001b[0m\n\u001b[1;31mSyntaxError\u001b[0m\u001b[1;31m:\u001b[0m invalid syntax\n"
     ]
    }
   ],
   "source": [
    "import DB_Control as dc\n",
    "\n",
    "# DB 연결\n",
    "conn, cur = dc.db_conn()\n",
    "\n",
    "# 테이블 생성\n",
    "# dc.create_tbl(conn, cur)   <-- 재실행 하면 오류 뜨기 때문에 한번 실행한 후 주석처리\n",
    "\n",
    "# 데이터 저장\n",
    "# dc.insert_tbl(conn, cur, 'A100', '홍길동', 23)\n",
    "# dc.insert_tbl(conn, cur, 'A200', '마당쇠', 45)\n",
    "# dc.insert_tbl(conn, cur, 'A300', '성춘향', 18)\n",
    "# dc.insert_tbl(conn, cur, 'A400', '이몽룡', 23)\n",
    "# dc.insert_tbl(conn, cur, 'A500', '변학도', 33)\n",
    "\n",
    "# 전체 데이터 검색\n",
    "row = dc.search_all_tbl(conn, cur)\n",
    "display(row)\n",
    "\n",
    "# 조건에 맞는 데이터 검색\n",
    "row = dc.search_tbl(conn, cur, 'A400')\n",
    "display(row)\n",
    "\n",
    "# 코드가 A200인 데이터 name을 김유신, age를 50으로 변경\n",
    "dc.update_tbl(conn, cur,'A200', '김유신', 50)\n",
    "row = dc.search_tbl(conn, cur, 'A400')\n",
    "display(row)"
   ]
  },
  {
   "cell_type": "markdown",
   "metadata": {},
   "source": [
    "- 테이블 생성하기"
   ]
  },
  {
   "cell_type": "code",
   "execution_count": 15,
   "metadata": {
    "id": "Fm8khWhgrmgn"
   },
   "outputs": [],
   "source": [
    "#실습"
   ]
  },
  {
   "cell_type": "markdown",
   "metadata": {},
   "source": [
    "- 생성한 테이블 목록보기"
   ]
  },
  {
   "cell_type": "code",
   "execution_count": 29,
   "metadata": {
    "id": "CoupbgBHrmjP"
   },
   "outputs": [
    {
     "name": "stdout",
     "output_type": "stream",
     "text": [
      "[('MEMBER_TBL', 'USERS', None, None, 'VALID', 10, None, 1, 255, 65536, 1048576, 1, 2147483645, None, None, None, 'YES', 'N', None, None, None, None, None, None, None, None, '         1', '         1', '    N', 'ENABLED', None, None, 'NO', None, 'N', 'N', 'NO', 'DEFAULT', 'DEFAULT', 'DEFAULT', 'DISABLED', 'NO', 'NO', None, 'DISABLED', 'YES', None, 'DISABLED', 'DISABLED', None, 'NO', 'NO', 'YES', 'DEFAULT')]\n"
     ]
    }
   ],
   "source": [
    "#실습"
   ]
  },
  {
   "cell_type": "markdown",
   "metadata": {},
   "source": [
    "- DB에 데이터 저장하기"
   ]
  },
  {
   "cell_type": "code",
   "execution_count": 27,
   "metadata": {
    "id": "APKwmBXArml1"
   },
   "outputs": [
    {
     "name": "stdout",
     "output_type": "stream",
     "text": [
      "코드 : A300\n",
      "이름 : 김유신\n",
      "나이 : 45\n",
      "직업 : 장군\n",
      "주소 : 경주\n",
      "입력 완료\n"
     ]
    }
   ],
   "source": [
    "#실습"
   ]
  },
  {
   "cell_type": "markdown",
   "metadata": {
    "id": "h96svISQrmop"
   },
   "source": [
    "- DB에서 원하는 테이블의 전체 데이터 가져오기"
   ]
  },
  {
   "cell_type": "code",
   "execution_count": 31,
   "metadata": {
    "id": "QVd0ieD7rmrb"
   },
   "outputs": [
    {
     "data": {
      "text/plain": [
       "[('A100', '홍길동', 23, '의적', '장성'),\n",
       " ('A200', '이순신', 34, '장군', '여수'),\n",
       " ('A300', '김유신', 45, '장군', '경주')]"
      ]
     },
     "metadata": {},
     "output_type": "display_data"
    }
   ],
   "source": [
    "#실습"
   ]
  },
  {
   "cell_type": "markdown",
   "metadata": {},
   "source": [
    "- DB에서 원하는 테이블의 데이터를 키워드로 검색하기"
   ]
  },
  {
   "cell_type": "code",
   "execution_count": 38,
   "metadata": {},
   "outputs": [
    {
     "name": "stdout",
     "output_type": "stream",
     "text": [
      "검색할 코드 : A100\n"
     ]
    },
    {
     "data": {
      "text/plain": [
       "[('A100', '홍길동', 23, '의적', '장성')]"
      ]
     },
     "metadata": {},
     "output_type": "display_data"
    }
   ],
   "source": [
    "#실습"
   ]
  },
  {
   "cell_type": "markdown",
   "metadata": {
    "id": "HEhEOw2ormuc"
   },
   "source": [
    "- 데이터 변경하기"
   ]
  },
  {
   "cell_type": "code",
   "execution_count": 41,
   "metadata": {
    "id": "tUNAOe76rmw7"
   },
   "outputs": [
    {
     "name": "stdout",
     "output_type": "stream",
     "text": [
      "변경할 코드 : A100\n",
      "변경할 이름 : 홍길동\n",
      "변경할 나이 : 33\n",
      "변경할 직업 : 의적\n",
      "변경할 주소 : 장성\n",
      "변경 완료\n"
     ]
    },
    {
     "data": {
      "text/plain": [
       "[('A100', '홍길동', 33, '의적', '장성'),\n",
       " ('A200', '이순신', 34, '장군', '여수'),\n",
       " ('A300', '김유신', 45, '장군', '경주')]"
      ]
     },
     "metadata": {},
     "output_type": "display_data"
    }
   ],
   "source": [
    "#실습"
   ]
  },
  {
   "cell_type": "markdown",
   "metadata": {},
   "source": [
    "- 데이터 삭제하기"
   ]
  },
  {
   "cell_type": "code",
   "execution_count": 42,
   "metadata": {},
   "outputs": [
    {
     "name": "stdout",
     "output_type": "stream",
     "text": [
      "삭제할 코드 : A100\n",
      "삭제 완료\n"
     ]
    },
    {
     "data": {
      "text/plain": [
       "[('A200', '이순신', 34, '장군', '여수'), ('A300', '김유신', 45, '장군', '경주')]"
      ]
     },
     "metadata": {},
     "output_type": "display_data"
    }
   ],
   "source": [
    "#실습"
   ]
  },
  {
   "cell_type": "markdown",
   "metadata": {},
   "source": [
    "- 접속종료"
   ]
  },
  {
   "cell_type": "code",
   "execution_count": null,
   "metadata": {},
   "outputs": [],
   "source": [
    "#실습"
   ]
  },
  {
   "cell_type": "markdown",
   "metadata": {},
   "source": [
    "# 모듈로 제작하기 - 클래스를 안 배운 경우"
   ]
  },
  {
   "cell_type": "code",
   "execution_count": 1,
   "metadata": {},
   "outputs": [
    {
     "name": "stdout",
     "output_type": "stream",
     "text": [
      "Overwriting DB_Control.py\n"
     ]
    }
   ],
   "source": [
    "#실습"
   ]
  },
  {
   "cell_type": "code",
   "execution_count": 2,
   "metadata": {},
   "outputs": [
    {
     "name": "stdout",
     "output_type": "stream",
     "text": [
      "접속 완료\n"
     ]
    }
   ],
   "source": [
    "#실습"
   ]
  },
  {
   "cell_type": "code",
   "execution_count": 3,
   "metadata": {},
   "outputs": [
    {
     "name": "stdout",
     "output_type": "stream",
     "text": [
      "코드 : 1\n",
      "이름 : 1\n",
      "나이 : 1\n",
      "직업 : 1\n",
      "주소 : 1\n",
      "insert into member_tbl values (:code,:name,:age,:job,:addr)\n",
      "입력 완료\n"
     ]
    }
   ],
   "source": [
    "#실습"
   ]
  },
  {
   "cell_type": "code",
   "execution_count": 3,
   "metadata": {},
   "outputs": [
    {
     "name": "stdout",
     "output_type": "stream",
     "text": [
      "[('A200', '이순신', 34, '장군', '여수'), ('A100', '홍길동', 23, '의적', '장성'), ('1', '1', 1, '1', '1')]\n"
     ]
    }
   ],
   "source": [
    "#실습"
   ]
  },
  {
   "cell_type": "code",
   "execution_count": 5,
   "metadata": {},
   "outputs": [
    {
     "name": "stdout",
     "output_type": "stream",
     "text": [
      "코드 : A200\n",
      "[('A200', '이순신', 34, '장군', '여수')]\n"
     ]
    }
   ],
   "source": [
    "#실습"
   ]
  },
  {
   "cell_type": "code",
   "execution_count": 5,
   "metadata": {},
   "outputs": [
    {
     "name": "stdout",
     "output_type": "stream",
     "text": [
      "코드 : 1\n",
      "이름 : 3\n",
      "나이 : 3\n",
      "직업 : 3\n",
      "주소 : 3\n",
      "update member_tbl set name=:name,age=:age,job=:job,addr=:addr where code='1'\n",
      "변경 완료\n",
      "[('A200', '이순신', 34, '장군', '여수'), ('A100', '홍길동', 23, '의적', '장성'), ('1', '3', 3, '3', '3')]\n"
     ]
    }
   ],
   "source": [
    "#실습"
   ]
  },
  {
   "cell_type": "code",
   "execution_count": 3,
   "metadata": {},
   "outputs": [
    {
     "name": "stdout",
     "output_type": "stream",
     "text": [
      "코드 : 1\n",
      "삭제 완료\n",
      "[('A200', '이순신', 34, '장군', '여수'), ('A100', '홍길동', 23, '의적', '장성')]\n"
     ]
    }
   ],
   "source": [
    "#실습"
   ]
  },
  {
   "cell_type": "code",
   "execution_count": 4,
   "metadata": {},
   "outputs": [
    {
     "name": "stdout",
     "output_type": "stream",
     "text": [
      "접속 종료\n"
     ]
    }
   ],
   "source": [
    "#실습"
   ]
  }
 ],
 "metadata": {
  "colab": {
   "provenance": []
  },
  "hide_input": false,
  "kernelspec": {
   "display_name": "Python 3 (ipykernel)",
   "language": "python",
   "name": "python3"
  },
  "language_info": {
   "codemirror_mode": {
    "name": "ipython",
    "version": 3
   },
   "file_extension": ".py",
   "mimetype": "text/x-python",
   "name": "python",
   "nbconvert_exporter": "python",
   "pygments_lexer": "ipython3",
   "version": "3.11.5"
  },
  "toc": {
   "base_numbering": 1,
   "nav_menu": {},
   "number_sections": true,
   "sideBar": true,
   "skip_h1_title": false,
   "title_cell": "Table of Contents",
   "title_sidebar": "Contents",
   "toc_cell": false,
   "toc_position": {},
   "toc_section_display": true,
   "toc_window_display": false
  }
 },
 "nbformat": 4,
 "nbformat_minor": 1
}
