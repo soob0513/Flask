{
 "cells": [
  {
   "cell_type": "markdown",
   "metadata": {
    "id": "qGZSvi8mVGjR"
   },
   "source": [
    "# 학습목표\n",
    "\n",
    "- Flask 사용법 학습하기\n",
    "- Flask를 이용한 웹서버 구축하기\n",
    "- Flask를 이용한 DB연동 웹페이지 구축하기"
   ]
  },
  {
   "cell_type": "markdown",
   "metadata": {
    "id": "uWQPs2ulVGjR"
   },
   "source": [
    "# Flask 설치 및 서버 실행하기\n",
    "\n",
    "- 플라스크(Flask)는 파이썬으로 작성된 마이크로 웹 프레임워크의 하나\n",
    "  - 특별한 도구나 라이브러리가 필요 없음\n",
    "  \n",
    "##  flask 설치하기"
   ]
  },
  {
   "cell_type": "code",
   "execution_count": 1,
   "metadata": {
    "id": "5iUjaxRzVGjS",
    "scrolled": true
   },
   "outputs": [
    {
     "name": "stdout",
     "output_type": "stream",
     "text": [
      "Requirement already satisfied: flask in c:\\users\\smhrd\\anaconda3\\lib\\site-packages (2.2.2)\n",
      "Requirement already satisfied: Werkzeug>=2.2.2 in c:\\users\\smhrd\\anaconda3\\lib\\site-packages (from flask) (2.2.3)\n",
      "Requirement already satisfied: Jinja2>=3.0 in c:\\users\\smhrd\\anaconda3\\lib\\site-packages (from flask) (3.1.2)\n",
      "Requirement already satisfied: itsdangerous>=2.0 in c:\\users\\smhrd\\anaconda3\\lib\\site-packages (from flask) (2.0.1)\n",
      "Requirement already satisfied: click>=8.0 in c:\\users\\smhrd\\anaconda3\\lib\\site-packages (from flask) (8.0.4)\n",
      "Requirement already satisfied: colorama in c:\\users\\smhrd\\anaconda3\\lib\\site-packages (from click>=8.0->flask) (0.4.6)\n",
      "Requirement already satisfied: MarkupSafe>=2.0 in c:\\users\\smhrd\\anaconda3\\lib\\site-packages (from Jinja2>=3.0->flask) (2.1.1)\n"
     ]
    }
   ],
   "source": [
    "# Flask 설치\n",
    "!pip install flask"
   ]
  },
  {
   "cell_type": "markdown",
   "metadata": {
    "id": "TpigevhCVGjT"
   },
   "source": [
    "## flask 서버 실행하기\n",
    "\n",
    "- <font color=red>app = Flask(\\_\\_name\\_\\_)</font> : Flask 객체를 app 변수에 할당\n",
    "- <font color=red>@app.route(\"/\")</font> : Flask에게 어떤 URL이 해당 함수를 실행하는지 알려줌\n",
    "- <font color=red>app.run(host='127.0.0.1', port=5000)</font>\n",
    "  - 서버 IP, 포트 등을 설정하고 서버를 실행\n",
    "  - 브라우저에서 IP와 포트로 서버 접속\n",
    "   \n",
    "<img src=\"https://arome1004.cafe24.com/images/python_db/lecture_image/003_flask01.png\" width=50%>"
   ]
  },
  {
   "cell_type": "code",
   "execution_count": 4,
   "metadata": {
    "colab": {
     "base_uri": "https://localhost:8080/",
     "height": 167
    },
    "executionInfo": {
     "elapsed": 8710,
     "status": "ok",
     "timestamp": 1694706916308,
     "user": {
      "displayName": "강성관",
      "userId": "00571094306841577419"
     },
     "user_tz": -540
    },
    "id": "ejvWeb9wVGjT",
    "outputId": "9ec3a2c6-4475-475a-d395-04355c26d0de",
    "scrolled": true
   },
   "outputs": [
    {
     "name": "stdout",
     "output_type": "stream",
     "text": [
      " * Serving Flask app '__main__'\n",
      " * Debug mode: off\n"
     ]
    },
    {
     "name": "stderr",
     "output_type": "stream",
     "text": [
      "WARNING: This is a development server. Do not use it in a production deployment. Use a production WSGI server instead.\n",
      " * Running on http://192.168.219.54:9000\n",
      "Press CTRL+C to quit\n",
      "192.168.219.54 - - [11/Mar/2024 14:53:16] \"GET / HTTP/1.1\" 200 -\n",
      "192.168.219.54 - - [11/Mar/2024 14:59:51] \"GET / HTTP/1.1\" 200 -\n"
     ]
    }
   ],
   "source": [
    "from flask import Flask\n",
    "\n",
    "# 초기화\n",
    "app = Flask(__name__)\n",
    "\n",
    "# 라우터 설정 (경로 설정)\n",
    "# / : root 경로 -- IP의 시작 경로\n",
    "@app.route('/')\n",
    "def root() : \n",
    "    # 브라우저에서 IP로 검색하면 실행되는 문장\n",
    "    return '최수빈님 안녕하세요 ^^'\n",
    "\n",
    "# 웹서버 실행   --> 명령 프롬프트 > ipconfig > Ipv4 주소 => ip 주소 입력\n",
    "if __name__ == '__main__' :\n",
    "    app.run(host= '192.168.219.54', port = 9000) "
   ]
  },
  {
   "cell_type": "markdown",
   "metadata": {
    "id": "VylPRvR4VGjU"
   },
   "source": [
    "## URL를 함수로 연결하기\n",
    "\n",
    "- <font color=red>@app.route(\"/hello\")</font>\n",
    "  - URL에  함수명을 설정\n",
    "  - 브라우저에서 IP와 포트로 서버 접속하고 URL로 함수명을 넘김\n",
    "  \n",
    "<img src=\"https://arome1004.cafe24.com/images/python_db/lecture_image/003_flask02.png\" width=50%>"
   ]
  },
  {
   "cell_type": "code",
   "execution_count": 9,
   "metadata": {
    "colab": {
     "base_uri": "https://localhost:8080/",
     "height": 185
    },
    "executionInfo": {
     "elapsed": 29112,
     "status": "ok",
     "timestamp": 1694707191248,
     "user": {
      "displayName": "강성관",
      "userId": "00571094306841577419"
     },
     "user_tz": -540
    },
    "id": "e_f1F8ArVGjU",
    "outputId": "f51315e8-331e-4e3f-b4ef-e88e41acef08"
   },
   "outputs": [
    {
     "name": "stdout",
     "output_type": "stream",
     "text": [
      " * Serving Flask app '__main__'\n",
      " * Debug mode: off\n"
     ]
    },
    {
     "name": "stderr",
     "output_type": "stream",
     "text": [
      "WARNING: This is a development server. Do not use it in a production deployment. Use a production WSGI server instead.\n",
      " * Running on http://192.168.219.54:9000\n",
      "Press CTRL+C to quit\n",
      "192.168.219.54 - - [11/Mar/2024 15:21:29] \"GET / HTTP/1.1\" 200 -\n",
      "192.168.219.54 - - [11/Mar/2024 15:21:51] \"GET /menu2/민지 HTTP/1.1\" 200 -\n",
      "192.168.219.54 - - [11/Mar/2024 15:22:22] \"GET /menu2/성춘향 HTTP/1.1\" 200 -\n",
      "192.168.219.54 - - [11/Mar/2024 15:22:28] \"GET /menu2/마당쇠 HTTP/1.1\" 200 -\n",
      "192.168.219.54 - - [11/Mar/2024 15:23:22] \"GET /menu2/민지 HTTP/1.1\" 200 -\n"
     ]
    }
   ],
   "source": [
    "from flask import Flask\n",
    "\n",
    "app = Flask(__name__)   # 초기화\n",
    "\n",
    "@app.route('/')\n",
    "def root() : \n",
    "    return '수빈님 안녕하세요'\n",
    "\n",
    "@app.route('/menu1')   # IP : 포트/menu1와 같이 실행\n",
    "def menu1() : \n",
    "    return '메뉴 1 페이지를 실행했습니다.'\n",
    "\n",
    "@app.route('/menu2/<name>')   # <변수명>\n",
    "def menu2(name) :    # 받은 변수값 파라미터로 설정\n",
    "    return name + '님 안녕하세요'\n",
    "\n",
    "if __name__ == '__main__' : \n",
    "    app.run(host= '192.168.219.54', port = 9000)"
   ]
  },
  {
   "cell_type": "markdown",
   "metadata": {
    "id": "LmHY9M3zVGjU"
   },
   "source": [
    "### URL을 변수로 사용하기\n",
    "\n",
    "- @app.route(\"/hello/<value>\")\n",
    "  - URL에  value 값을 설정\n",
    "  - 브라우저에서 IP와 포트로 서버 접속하고 URL로 100을 넘김\n",
    "    \n",
    "<img src=\"https://arome1004.cafe24.com/images/python_db/lecture_image/003_flask03.png\" width=50%>  "
   ]
  },
  {
   "cell_type": "code",
   "execution_count": 10,
   "metadata": {
    "colab": {
     "base_uri": "https://localhost:8080/",
     "height": 185
    },
    "executionInfo": {
     "elapsed": 17671,
     "status": "ok",
     "timestamp": 1694707227934,
     "user": {
      "displayName": "강성관",
      "userId": "00571094306841577419"
     },
     "user_tz": -540
    },
    "id": "nkOP6yimVGjU",
    "outputId": "5ac337dc-b22d-44fb-e3cc-aae28e43dd48",
    "scrolled": true
   },
   "outputs": [
    {
     "name": "stdout",
     "output_type": "stream",
     "text": [
      " * Serving Flask app '__main__'\n",
      " * Debug mode: off\n"
     ]
    },
    {
     "name": "stderr",
     "output_type": "stream",
     "text": [
      "WARNING: This is a development server. Do not use it in a production deployment. Use a production WSGI server instead.\n",
      " * Running on http://192.168.219.54:9000\n",
      "Press CTRL+C to quit\n",
      "192.168.219.54 - - [11/Mar/2024 15:28:11] \"GET / HTTP/1.1\" 200 -\n",
      "192.168.219.54 - - [11/Mar/2024 15:28:29] \"GET /menu3/수빈26 HTTP/1.1\" 404 -\n",
      "192.168.219.54 - - [11/Mar/2024 15:28:39] \"GET / HTTP/1.1\" 200 -\n",
      "192.168.219.54 - - [11/Mar/2024 15:28:51] \"GET /menu3/수빈%2026 HTTP/1.1\" 200 -\n"
     ]
    }
   ],
   "source": [
    "from flask import Flask\n",
    "\n",
    "app = Flask(__name__)   # 초기화\n",
    "\n",
    "@app.route('/')\n",
    "def root() : \n",
    "    return '수빈님 안녕하세요'\n",
    "\n",
    "@app.route('/menu1')   # IP : 포트/menu1와 같이 실행\n",
    "def menu1() : \n",
    "    return '메뉴 1 페이지를 실행했습니다.'\n",
    "\n",
    "@app.route('/menu2/<name>')   # <변수명>\n",
    "def menu2(name) :    # 받은 변수값 파라미터로 설정\n",
    "    return name + '님 안녕하세요'\n",
    "\n",
    "@app.route('/menu3/<name> <age>')\n",
    "def menu3(name, age) : \n",
    "    return name + '님 (' + age + '세) 안녕하세요'\n",
    "    \n",
    "if __name__ == '__main__' : \n",
    "    app.run(host= '192.168.219.54', port = 9000)"
   ]
  },
  {
   "cell_type": "markdown",
   "metadata": {
    "id": "hOfNZpGTw8Yv"
   },
   "source": [
    "- 2개 이상의 변수 사용하기\n",
    "\n",
    "<img src=\"https://arome1004.cafe24.com/images/python_db/lecture_image/003_flask03_2.png\" width=50%>"
   ]
  },
  {
   "cell_type": "code",
   "execution_count": null,
   "metadata": {
    "colab": {
     "base_uri": "https://localhost:8080/",
     "height": 185
    },
    "executionInfo": {
     "elapsed": 20984,
     "status": "ok",
     "timestamp": 1694707264552,
     "user": {
      "displayName": "강성관",
      "userId": "00571094306841577419"
     },
     "user_tz": -540
    },
    "id": "ZSM95KCNVGjU",
    "outputId": "682ab925-0a32-4479-948b-84c04d5223cd"
   },
   "outputs": [
    {
     "name": "stdout",
     "output_type": "stream",
     "text": [
      " * Serving Flask app '__main__'\n",
      " * Debug mode: off\n"
     ]
    },
    {
     "name": "stderr",
     "output_type": "stream",
     "text": [
      "WARNING: This is a development server. Do not use it in a production deployment. Use a production WSGI server instead.\n",
      " * Running on http://127.0.0.1:5003\n",
      "Press CTRL+C to quit\n",
      "127.0.0.1 - - [29/Oct/2023 21:27:04] \"GET / HTTP/1.1\" 404 -\n",
      "127.0.0.1 - - [29/Oct/2023 21:27:04] \"GET /favicon.ico HTTP/1.1\" 404 -\n",
      "127.0.0.1 - - [29/Oct/2023 21:27:12] \"GET /hello%20100%20200 HTTP/1.1\" 404 -\n",
      "127.0.0.1 - - [29/Oct/2023 21:27:40] \"GET /hello/100%20200 HTTP/1.1\" 200 -\n"
     ]
    }
   ],
   "source": [
    "#실습"
   ]
  },
  {
   "cell_type": "markdown",
   "metadata": {
    "id": "Ww2JKT6bVGjV"
   },
   "source": [
    "### html 문서를 반환하기\n",
    "\n",
    "- <font color=red>render_template(\"hello.html\")</font>\n",
    "  - hello.html 문서를 반환\n",
    "\n",
    "- hello.html 파일을 작성하고 templates 폴더를 생성하고 저장\n",
    "- 브라우저에서 IP와 포트로 서버 접속\n",
    "\n",
    "  <img src=\"https://arome1004.cafe24.com/images/opencv/lecture_image/04_flask04.png\" width=50%>  "
   ]
  },
  {
   "cell_type": "code",
   "execution_count": null,
   "metadata": {
    "id": "YzAKnrqgbiKY"
   },
   "outputs": [],
   "source": [
    "#실습"
   ]
  },
  {
   "cell_type": "code",
   "execution_count": 20,
   "metadata": {
    "colab": {
     "base_uri": "https://localhost:8080/"
    },
    "executionInfo": {
     "elapsed": 1122,
     "status": "ok",
     "timestamp": 1694707589557,
     "user": {
      "displayName": "강성관",
      "userId": "00571094306841577419"
     },
     "user_tz": -540
    },
    "id": "q5BGUN28VGjV",
    "outputId": "e206a935-07b5-4f36-b884-649460f282cb"
   },
   "outputs": [
    {
     "name": "stdout",
     "output_type": "stream",
     "text": [
      "Overwriting ./templates/index.html\n"
     ]
    }
   ],
   "source": [
    "%%writefile ./templates/index.html    \n",
    "<head> \n",
    "<script>\n",
    "function main() {\n",
    "    document.login.action = \"/main\"\n",
    "}\n",
    "function member() {\n",
    "    document.login.action = \"/member\"\n",
    "}\n",
    "</script>\n",
    "</head>\n",
    "<body>\n",
    "<center>\n",
    "<form method=\"post\" name=\"login\">\n",
    "<table>\n",
    "<tr><td>아이디<td><input type=\"text\" name=\"id\"></tr>\n",
    "<tr><td>패스워드<td><input type=\"text\" name=\"pw\"></tr>\n",
    "<tr align=center><td colspan=2>\n",
    "<input type=\"submit\" value=\"로그인\" onclick=\"main()\"/>\n",
    "<input type=\"submit\" value=\"회원가입\" onclick=\"member()\" /></tr>\n",
    "</table>\n",
    "</form>\n",
    "</center>\n",
    "</body>\n",
    "</html>"
   ]
  },
  {
   "cell_type": "code",
   "execution_count": 21,
   "metadata": {},
   "outputs": [
    {
     "name": "stdout",
     "output_type": "stream",
     "text": [
      "Overwriting ./templates/member.html\n"
     ]
    }
   ],
   "source": [
    "%%writefile ./templates/member.html   \n",
    "<html>\n",
    "<body>\n",
    "<center>\n",
    "<form method=\"post\" action=\"member_save\">\n",
    "<table>\n",
    "<tr><td>아이디<td><input type=\"text\" name=\"id\"></tr>\n",
    "<tr><td>패스워드<td><input type=\"text\" name=\"pw\"></tr>\n",
    "<tr><td>이름<td><input type=\"text\" name=\"name\"></tr>\n",
    "<tr align=center><td colspan=2>\n",
    "<input type=\"submit\" value=\"회원가입\" name=\"확인\" /></tr>\n",
    "</table>\n",
    "</form>\n",
    "</center>\n",
    "</body>\n",
    "</html>"
   ]
  },
  {
   "cell_type": "code",
   "execution_count": 22,
   "metadata": {},
   "outputs": [
    {
     "name": "stdout",
     "output_type": "stream",
     "text": [
      "Overwriting ./templates/main.html\n"
     ]
    }
   ],
   "source": [
    "%%writefile ./templates/main.html   \n",
    "<html>\n",
    "<body>\n",
    "<center>\n",
    "<h1><font color=red><b>{{ name }}</b></font>님이 접속하였습니다 ^^</h1>\n",
    "</center>\n",
    "</body>\n",
    "</html>"
   ]
  },
  {
   "cell_type": "markdown",
   "metadata": {},
   "source": [
    "- Login을 위해 DB를 연동하는 모듈"
   ]
  },
  {
   "cell_type": "code",
   "execution_count": 3,
   "metadata": {},
   "outputs": [
    {
     "name": "stdout",
     "output_type": "stream",
     "text": [
      "Overwriting DB_Login.py\n"
     ]
    }
   ],
   "source": [
    "%%writefile DB_Login.py\n",
    "import cx_Oracle\n",
    "\n",
    "# DB 접속함수\n",
    "# username : 아이디, password : 암호, dsn : 주소\n",
    "def db_conn() :\n",
    "    username = 'hr'\n",
    "    password = '12345'\n",
    "    dsn = '127.0.0.1:1521/xe'\n",
    "\n",
    "    try:\n",
    "        conn = cx_Oracle.connect(username, password, dsn)\n",
    "        cur = conn.cursor()\n",
    "        print(\"접속 완료\")\n",
    "        \n",
    "        return conn, cur  \n",
    "    except cx_Oracle.DatabaseError as e:\n",
    "        print(\"error \", e)  \n",
    "\n",
    "# DB 접속 종료 함수\n",
    "# cur : 현제 커서 객체, conn : 현재 연결 객체\n",
    "def db_disconn(cur, conn) :\n",
    "    cur.close()\n",
    "    conn.close()  \n",
    "    print(\"접속 종료\")\n",
    "\n",
    "# DB의 해당 테이블에 데이터를 저장하는 함수\n",
    "def insertData(cur, conn, t_name, id, pw, name) :\n",
    "    input_data = {\"id\":id, \"pw\":pw, \"name\":name}\n",
    "\n",
    "    # 딕셔너리의 키 값으로 query문을 만든다\n",
    "    query = f\"insert into member_table values (:id, :pw, :name)\"\n",
    "          \n",
    "    try:\n",
    "        cur.execute(query, input_data)\n",
    "        conn.commit()\n",
    "        print(\"입력 완료\")\n",
    "    except cx_Oracle.DatabaseError as e:\n",
    "        print(\"error \", e)\n",
    "\n",
    "# DB의 해당 테이블에서 하나의 데이터를 검색하는 함수\n",
    "def searchData(cur, conn, id, pw) :\n",
    "    input_data = {\"id\":id, \"pw\":pw}\n",
    "    query = f\"select name from member_table where id=:id and pw=:pw\"\n",
    "\n",
    "    try:\n",
    "        cur.execute(query, input_data)\n",
    "        row = cur.fetchall()\n",
    "\n",
    "        return row\n",
    "    except cx_Oracle.DatabaseError as e:\n",
    "        print(\"error \", e)"
   ]
  },
  {
   "cell_type": "markdown",
   "metadata": {},
   "source": [
    "- 회원 정보를 등록"
   ]
  },
  {
   "cell_type": "code",
   "execution_count": 31,
   "metadata": {},
   "outputs": [
    {
     "name": "stdout",
     "output_type": "stream",
     "text": [
      "접속 완료\n",
      "회원 등록 완료\n"
     ]
    }
   ],
   "source": [
    "import DB_Login as db\n",
    "import cx_Oracle \n",
    "\n",
    "conn, cur = db.db_conn()\n",
    "\n",
    "cur = conn.cursor()\n",
    "\n",
    "query = \"\"\"create table member_table (\n",
    "id varchar(30) primary key,\n",
    "pw varchar(30) not null,\n",
    "name varchar(30) not null)\"\"\"\n",
    "\n",
    "try:\n",
    "    cur.execute(query)\n",
    "    conn.commit()\n",
    "except cx_Oracle.DatabaseError as e:\n",
    "    print(\"error \", e)\n",
    "    \n",
    "query = \"insert into member_table values ('flask', '12345', '홍길동')\"\n",
    "\n",
    "try:\n",
    "    cur.execute(query)\n",
    "    conn.commit()\n",
    "    print('회원 등록 완료')\n",
    "except cx_Oracle.DatabaseError as e:\n",
    "    print(\"error \", e)"
   ]
  },
  {
   "cell_type": "code",
   "execution_count": null,
   "metadata": {
    "colab": {
     "base_uri": "https://localhost:8080/",
     "height": 167
    },
    "executionInfo": {
     "elapsed": 7487,
     "status": "ok",
     "timestamp": 1694707649776,
     "user": {
      "displayName": "강성관",
      "userId": "00571094306841577419"
     },
     "user_tz": -540
    },
    "id": "Us9DSVbIVGjV",
    "outputId": "3b39a832-f441-427e-c1a0-6822eb9f390d",
    "scrolled": true
   },
   "outputs": [
    {
     "name": "stdout",
     "output_type": "stream",
     "text": [
      " * Serving Flask app '__main__'\n",
      " * Debug mode: off\n"
     ]
    },
    {
     "name": "stderr",
     "output_type": "stream",
     "text": [
      "WARNING: This is a development server. Do not use it in a production deployment. Use a production WSGI server instead.\n",
      " * Running on http://192.168.219.54:9000\n",
      "Press CTRL+C to quit\n",
      "192.168.219.54 - - [11/Mar/2024 16:55:15] \"GET / HTTP/1.1\" 200 -\n",
      "192.168.219.54 - - [11/Mar/2024 16:55:19] \"POST /main HTTP/1.1\" 200 -\n"
     ]
    },
    {
     "name": "stdout",
     "output_type": "stream",
     "text": [
      "접속 완료\n"
     ]
    }
   ],
   "source": [
    "from flask import Flask, render_template, request\n",
    "import DB_Login as db\n",
    "\n",
    "app = Flask(__name__)   # 초기화\n",
    "\n",
    "# 초기 화면\n",
    "@app.route('/')\n",
    "def index() : \n",
    "    return render_template('index.html')\n",
    "    \n",
    "# 로그인 완료화면\n",
    "# methods : 데이터를 받는 방식\n",
    "@app.route('/main',methods = ['post'])   \n",
    "def main() : \n",
    "    # HTML의 폼태그의 값을 받는다\n",
    "    id = request.form['id']\n",
    "    pw = request.form['pw']\n",
    "    \n",
    "    #DB 연결\n",
    "    conn, cur = db.db_conn()\n",
    "    \n",
    "    # id, pw로 검색해서 일치하는 정보가 있는지 검색\n",
    "    name = db.searchData(cur, conn, id, pw)\n",
    "    \n",
    "    if name == None : # 없는 경우\n",
    "        print('로그인 실패')\n",
    "        return render_template('index.html')\n",
    "    else : \n",
    "        # 로그인 성공 시 이름을 같이 보낸다\n",
    "        return render_template('main.html', name=name[0][0])\n",
    "    \n",
    "    # DB 종료\n",
    "    db.db_disconn()\n",
    "    \n",
    "# 회원 가입 화면\n",
    "@app.route('/member')   \n",
    "def member() :    \n",
    "    return render_template('member.html')\n",
    "    \n",
    "if __name__ == '__main__' : \n",
    "    app.run(host= '192.168.219.54', port = 9000)"
   ]
  },
  {
   "cell_type": "code",
   "execution_count": null,
   "metadata": {},
   "outputs": [],
   "source": [
    "# 클라이언트 화면에는 id, pw 가 뜨지 않는다"
   ]
  },
  {
   "cell_type": "markdown",
   "metadata": {
    "id": "j7olaJSmVGjV"
   },
   "source": [
    "### 이미지가 포함된 문서 반환하기\n",
    "\n",
    "- static 폴더 : 자원을 담아 놓는 폴더\n",
    "- static 폴더에 이미지 폴더를 만들고 출력할 이미지를 저장"
   ]
  },
  {
   "cell_type": "code",
   "execution_count": null,
   "metadata": {
    "id": "H8PHjq_7cemt"
   },
   "outputs": [],
   "source": [
    "#실습"
   ]
  },
  {
   "cell_type": "code",
   "execution_count": null,
   "metadata": {
    "colab": {
     "base_uri": "https://localhost:8080/"
    },
    "executionInfo": {
     "elapsed": 457,
     "status": "ok",
     "timestamp": 1694707546827,
     "user": {
      "displayName": "강성관",
      "userId": "00571094306841577419"
     },
     "user_tz": -540
    },
    "id": "VVhyTC_cVGjV",
    "outputId": "84d3e42f-ef91-4c16-cd5f-b17aa9e7973a"
   },
   "outputs": [
    {
     "name": "stdout",
     "output_type": "stream",
     "text": [
      "Writing ./templates/imgdisp.html\n"
     ]
    }
   ],
   "source": [
    "%%writefile ./templates/imgdisp.html\n",
    "<html>\n",
    "<body>\n",
    "<img src=\"{{url_for('static', filename='./butterfly.png')}}\" width=\"50%\">\n",
    "</body>\n",
    "</html>"
   ]
  },
  {
   "cell_type": "code",
   "execution_count": null,
   "metadata": {
    "colab": {
     "base_uri": "https://localhost:8080/",
     "height": 185
    },
    "executionInfo": {
     "elapsed": 9732,
     "status": "ok",
     "timestamp": 1694707672933,
     "user": {
      "displayName": "강성관",
      "userId": "00571094306841577419"
     },
     "user_tz": -540
    },
    "id": "sS2lxNtvVGjV",
    "outputId": "e73433e2-db41-4527-99ac-9b9dcc221e5e"
   },
   "outputs": [
    {
     "name": "stdout",
     "output_type": "stream",
     "text": [
      " * Serving Flask app '__main__'\n",
      " * Debug mode: off\n"
     ]
    },
    {
     "name": "stderr",
     "output_type": "stream",
     "text": [
      "WARNING: This is a development server. Do not use it in a production deployment. Use a production WSGI server instead.\n",
      " * Running on http://127.0.0.1:5005\n",
      "Press CTRL+C to quit\n",
      "127.0.0.1 - - [29/Oct/2023 21:40:26] \"GET / HTTP/1.1\" 200 -\n",
      "127.0.0.1 - - [29/Oct/2023 21:40:26] \"GET /static/butterfly.png HTTP/1.1\" 200 -\n",
      "127.0.0.1 - - [29/Oct/2023 21:40:26] \"GET /favicon.ico HTTP/1.1\" 404 -\n"
     ]
    }
   ],
   "source": [
    "#실습"
   ]
  },
  {
   "cell_type": "markdown",
   "metadata": {
    "id": "DYKNPuzMVGjW"
   },
   "source": [
    "# 데이터 스트리밍 구현\n",
    "\n",
    "## 구현 방법"
   ]
  },
  {
   "cell_type": "markdown",
   "metadata": {
    "id": "h8wsF0KLVGjW"
   },
   "source": [
    "- yield() 함수 배우기\n",
    "\n",
    "  \n",
    "  <img src=\"https://arome1004.cafe24.com/images/opencv/lecture_image/04_yield.png\" width=70%>  "
   ]
  },
  {
   "cell_type": "code",
   "execution_count": null,
   "metadata": {
    "colab": {
     "base_uri": "https://localhost:8080/"
    },
    "executionInfo": {
     "elapsed": 3350,
     "status": "ok",
     "timestamp": 1694707717199,
     "user": {
      "displayName": "강성관",
      "userId": "00571094306841577419"
     },
     "user_tz": -540
    },
    "id": "KhZjMMt8VGjW",
    "outputId": "7508aa06-7aa8-4fe7-9044-21fe7c04f934"
   },
   "outputs": [
    {
     "name": "stdout",
     "output_type": "stream",
     "text": [
      "A\n",
      "B\n",
      "C\n"
     ]
    }
   ],
   "source": [
    "#실습"
   ]
  },
  {
   "cell_type": "code",
   "execution_count": null,
   "metadata": {
    "colab": {
     "base_uri": "https://localhost:8080/"
    },
    "executionInfo": {
     "elapsed": 3119,
     "status": "ok",
     "timestamp": 1694707723087,
     "user": {
      "displayName": "강성관",
      "userId": "00571094306841577419"
     },
     "user_tz": -540
    },
    "id": "i_L1tuGeVGjX",
    "outputId": "0ac17a35-da86-4bd7-acfe-bd6b8e43242d"
   },
   "outputs": [
    {
     "name": "stdout",
     "output_type": "stream",
     "text": [
      "A\n",
      "B\n",
      "C\n"
     ]
    }
   ],
   "source": [
    "#실습"
   ]
  },
  {
   "cell_type": "markdown",
   "metadata": {
    "id": "iEmDj_XGw8Yy"
   },
   "source": [
    "- <font color=red>Response(stream_with_context(test()))</font>\n",
    "  - 텍스트 스트리밍 함수 test()를 실행\n",
    "  \n",
    "  <img src=\"https://arome1004.cafe24.com/images/opencv/lecture_image/04_flask05.png\" width=50%>  "
   ]
  },
  {
   "cell_type": "code",
   "execution_count": null,
   "metadata": {
    "id": "6N8iSSnXVGjW"
   },
   "outputs": [],
   "source": [
    "#실습"
   ]
  },
  {
   "cell_type": "code",
   "execution_count": null,
   "metadata": {
    "colab": {
     "base_uri": "https://localhost:8080/",
     "height": 167
    },
    "executionInfo": {
     "elapsed": 10559,
     "status": "ok",
     "timestamp": 1694707701772,
     "user": {
      "displayName": "강성관",
      "userId": "00571094306841577419"
     },
     "user_tz": -540
    },
    "id": "DPbAom9wVGjW",
    "outputId": "9fe2c8e9-e2e0-45e7-c7ed-00315dabb5d2"
   },
   "outputs": [
    {
     "name": "stdout",
     "output_type": "stream",
     "text": [
      " * Serving Flask app '__main__'\n",
      " * Debug mode: off\n"
     ]
    },
    {
     "name": "stderr",
     "output_type": "stream",
     "text": [
      "WARNING: This is a development server. Do not use it in a production deployment. Use a production WSGI server instead.\n",
      " * Running on http://127.0.0.1:5007\n",
      "Press CTRL+C to quit\n",
      "127.0.0.1 - - [29/Oct/2023 21:43:19] \"GET / HTTP/1.1\" 200 -\n",
      "127.0.0.1 - - [29/Oct/2023 21:43:21] \"GET /favicon.ico HTTP/1.1\" 404 -\n"
     ]
    }
   ],
   "source": [
    "#실습"
   ]
  },
  {
   "cell_type": "markdown",
   "metadata": {
    "id": "U7ys9JL-w8Yy"
   },
   "source": [
    "# 로그인 페이지 만들기"
   ]
  },
  {
   "cell_type": "markdown",
   "metadata": {
    "id": "lSsaim4pw8Yy"
   },
   "source": [
    "- 테이블 생성하기"
   ]
  },
  {
   "cell_type": "code",
   "execution_count": null,
   "metadata": {
    "id": "kz_n0xxDw8Yy"
   },
   "outputs": [],
   "source": [
    "#실습"
   ]
  },
  {
   "cell_type": "code",
   "execution_count": null,
   "metadata": {
    "id": "6exUVouWw8Yy"
   },
   "outputs": [],
   "source": [
    "#실습"
   ]
  },
  {
   "cell_type": "markdown",
   "metadata": {
    "id": "0hCbQJiyw8Yy"
   },
   "source": [
    "- 로그인 페이지 만들기"
   ]
  },
  {
   "cell_type": "code",
   "execution_count": null,
   "metadata": {
    "id": "kksqi7GLw8Yz",
    "outputId": "2ce2dc49-5d42-4002-db08-8fcb9fb90e2a"
   },
   "outputs": [
    {
     "name": "stdout",
     "output_type": "stream",
     "text": [
      "Overwriting ./templates/index.html\n"
     ]
    }
   ],
   "source": [
    "%%writefile ./templates/index.html\n",
    "<html>\n",
    "<head>\n",
    "<script>\n",
    "function main() {\n",
    "    document.login.action = \"/main\"\n",
    "}\n",
    "function member() {\n",
    "    document.login.action = \"/member\"\n",
    "}\n",
    "</script>\n",
    "</head>\n",
    "<body>\n",
    "<center>\n",
    "<form method=\"post\" name=\"login\">\n",
    "<table>\n",
    "<tr><td>아이디<td><input type=\"text\" name=\"id\"></tr>\n",
    "<tr><td>패스워드<td><input type=\"text\" name=\"pw\"></tr>\n",
    "<tr align=center><td colspan=2>\n",
    "<input type=\"submit\" value=\"로그인\" onclick=\"main()\"/>\n",
    "<input type=\"submit\" value=\"회원가입\" onclick=\"member()\" /></tr>\n",
    "</table>\n",
    "</form>\n",
    "</center>\n",
    "</body>\n",
    "</html>"
   ]
  },
  {
   "cell_type": "code",
   "execution_count": null,
   "metadata": {
    "id": "jdNqNYDMw8Yz",
    "outputId": "111195ba-8511-46c6-e7cf-a8717fa53e74"
   },
   "outputs": [
    {
     "name": "stdout",
     "output_type": "stream",
     "text": [
      " * Serving Flask app '__main__'\n",
      " * Debug mode: off\n"
     ]
    },
    {
     "name": "stderr",
     "output_type": "stream",
     "text": [
      "WARNING: This is a development server. Do not use it in a production deployment. Use a production WSGI server instead.\n",
      " * Running on http://127.0.0.1:5015\n",
      "Press CTRL+C to quit\n",
      "127.0.0.1 - - [29/Oct/2023 22:06:28] \"GET / HTTP/1.1\" 200 -\n",
      "127.0.0.1 - - [29/Oct/2023 22:06:28] \"GET /favicon.ico HTTP/1.1\" 404 -\n"
     ]
    }
   ],
   "source": [
    "#실습"
   ]
  },
  {
   "cell_type": "markdown",
   "metadata": {
    "id": "9puD5rnsw8Yz"
   },
   "source": [
    "- 회원가입 페이지 만들기"
   ]
  },
  {
   "cell_type": "code",
   "execution_count": null,
   "metadata": {
    "id": "0GkDK2J8w8Yz",
    "outputId": "fad610e8-31b1-4a74-8bb4-6675dbdf5eb3"
   },
   "outputs": [
    {
     "name": "stdout",
     "output_type": "stream",
     "text": [
      "Writing ./templates/member.html\n"
     ]
    }
   ],
   "source": [
    "%%writefile ./templates/member.html\n",
    "<html>\n",
    "<body>\n",
    "<center>\n",
    "<form method=\"post\" action=\"member_save\">\n",
    "<table>\n",
    "<tr><td>아이디<td><input type=\"text\" name=\"id\"></tr>\n",
    "<tr><td>패스워드<td><input type=\"text\" name=\"pw\"></tr>\n",
    "<tr><td>이름<td><input type=\"text\" name=\"name\"></tr>\n",
    "<tr align=center><td colspan=2>\n",
    "<input type=\"submit\" value=\"회원가입\" name=\"확인\" /></tr>\n",
    "</table>\n",
    "</form>\n",
    "</center>\n",
    "</body>\n",
    "</html>"
   ]
  },
  {
   "cell_type": "code",
   "execution_count": null,
   "metadata": {
    "id": "2zU7imLjw8Yz"
   },
   "outputs": [],
   "source": [
    "#실습"
   ]
  },
  {
   "cell_type": "code",
   "execution_count": null,
   "metadata": {
    "id": "K0ju8i99w8Y0"
   },
   "outputs": [],
   "source": [
    "#실습"
   ]
  },
  {
   "cell_type": "markdown",
   "metadata": {
    "id": "afbj7AtDw8Y0"
   },
   "source": [
    "- 로그인 성공 (메인) 페이지 만들기"
   ]
  },
  {
   "cell_type": "code",
   "execution_count": null,
   "metadata": {
    "id": "3btDy-ugw8Y0",
    "outputId": "7a936d62-a43e-4d0c-b30b-8ed8ed286976"
   },
   "outputs": [
    {
     "name": "stdout",
     "output_type": "stream",
     "text": [
      "Overwriting ./templates/main.html\n"
     ]
    }
   ],
   "source": [
    "%%writefile ./templates/main.html\n",
    "<html>\n",
    "<body>\n",
    "<center>\n",
    "<h1><font color=red><b>{{ name }}</b></font>님이 접속하였습니다 ^^</h1>\n",
    "</center>\n",
    "</body>\n",
    "</html>"
   ]
  },
  {
   "cell_type": "code",
   "execution_count": null,
   "metadata": {
    "id": "OI2-Hpftw8Y1",
    "outputId": "cf71e0e0-ac7a-4a62-9af7-3ff113348b2e"
   },
   "outputs": [
    {
     "name": "stdout",
     "output_type": "stream",
     "text": [
      " * Serving Flask app '__main__'\n",
      " * Debug mode: off\n"
     ]
    },
    {
     "name": "stderr",
     "output_type": "stream",
     "text": [
      "WARNING: This is a development server. Do not use it in a production deployment. Use a production WSGI server instead.\n",
      " * Running on http://127.0.0.1:9041\n",
      "INFO:werkzeug:\u001b[31m\u001b[1mWARNING: This is a development server. Do not use it in a production deployment. Use a production WSGI server instead.\u001b[0m\n",
      " * Running on http://127.0.0.1:9041\n",
      "Press CTRL+C to quit\n",
      "INFO:werkzeug:\u001b[33mPress CTRL+C to quit\u001b[0m\n",
      "127.0.0.1 - - [29/Oct/2023 23:01:59] \"GET / HTTP/1.1\" 200 -\n",
      "INFO:werkzeug:127.0.0.1 - - [29/Oct/2023 23:01:59] \"GET / HTTP/1.1\" 200 -\n",
      "127.0.0.1 - - [29/Oct/2023 23:02:00] \"GET /favicon.ico HTTP/1.1\" 404 -\n",
      "INFO:werkzeug:127.0.0.1 - - [29/Oct/2023 23:02:00] \"\u001b[33mGET /favicon.ico HTTP/1.1\u001b[0m\" 404 -\n",
      "127.0.0.1 - - [29/Oct/2023 23:02:03] \"POST /main HTTP/1.1\" 200 -\n",
      "INFO:werkzeug:127.0.0.1 - - [29/Oct/2023 23:02:03] \"POST /main HTTP/1.1\" 200 -\n"
     ]
    },
    {
     "name": "stdout",
     "output_type": "stream",
     "text": [
      "DB 연결 완료\n",
      "로그인 실패\n"
     ]
    },
    {
     "name": "stderr",
     "output_type": "stream",
     "text": [
      "127.0.0.1 - - [29/Oct/2023 23:02:10] \"POST /main HTTP/1.1\" 200 -\n",
      "INFO:werkzeug:127.0.0.1 - - [29/Oct/2023 23:02:10] \"POST /main HTTP/1.1\" 200 -\n"
     ]
    },
    {
     "name": "stdout",
     "output_type": "stream",
     "text": [
      "DB 연결 완료\n",
      "로그인 성공\n"
     ]
    }
   ],
   "source": [
    "#실습"
   ]
  }
 ],
 "metadata": {
  "colab": {
   "provenance": []
  },
  "hide_input": false,
  "kernelspec": {
   "display_name": "Python 3 (ipykernel)",
   "language": "python",
   "name": "python3"
  },
  "language_info": {
   "codemirror_mode": {
    "name": "ipython",
    "version": 3
   },
   "file_extension": ".py",
   "mimetype": "text/x-python",
   "name": "python",
   "nbconvert_exporter": "python",
   "pygments_lexer": "ipython3",
   "version": "3.11.5"
  },
  "toc": {
   "base_numbering": 1,
   "nav_menu": {},
   "number_sections": true,
   "sideBar": true,
   "skip_h1_title": false,
   "title_cell": "Table of Contents",
   "title_sidebar": "Contents",
   "toc_cell": false,
   "toc_position": {
    "height": "calc(100% - 180px)",
    "left": "10px",
    "top": "150px",
    "width": "165px"
   },
   "toc_section_display": true,
   "toc_window_display": true
  }
 },
 "nbformat": 4,
 "nbformat_minor": 1
}
